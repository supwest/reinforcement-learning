{
 "cells": [
  {
   "cell_type": "code",
   "execution_count": 3,
   "metadata": {
    "collapsed": true
   },
   "outputs": [],
   "source": [
    "%matplotlib inline\n",
    "\n",
    "import gym\n",
    "import numpy as np\n",
    "from matplotlib import pyplot as plt"
   ]
  },
  {
   "cell_type": "code",
   "execution_count": 4,
   "metadata": {
    "collapsed": false
   },
   "outputs": [
    {
     "name": "stderr",
     "output_type": "stream",
     "text": [
      "[2017-02-28 11:00:05,523] Making new env: Breakout-v0\n"
     ]
    }
   ],
   "source": [
    "env = gym.envs.make(\"Breakout-v0\")"
   ]
  },
  {
   "cell_type": "code",
   "execution_count": 5,
   "metadata": {
    "collapsed": false
   },
   "outputs": [
    {
     "name": "stdout",
     "output_type": "stream",
     "text": [
      "Action space size: 6\n",
      "['NOOP', 'FIRE', 'RIGHT', 'LEFT', 'RIGHTFIRE', 'LEFTFIRE']\n",
      "Observation space shape: (210, 160, 3)\n"
     ]
    },
    {
     "data": {
      "image/png": "[encoded data removed]",
      "text/plain": [
       "<matplotlib.figure.Figure at 0x7fb8ac5ab690>"
      ]
     },
     "metadata": {},
     "output_type": "display_data"
    },
    {
     "data": {
      "image/png": "[encoded data removed]",
      "text/plain": [
       "<matplotlib.figure.Figure at 0x7fb889365690>"
      ]
     },
     "metadata": {},
     "output_type": "display_data"
    }
   ],
   "source": [
    "print(\"Action space size: {}\".format(env.action_space.n))\n",
    "print(env.get_action_meanings())\n",
    "\n",
    "observation = env.reset()\n",
    "print(\"Observation space shape: {}\".format(observation.shape))\n",
    "\n",
    "plt.figure()\n",
    "plt.imshow(env.render(mode='rgb_array'))\n",
    "\n",
    "[env.step(2) for x in range(1)]\n",
    "plt.figure()\n",
    "plt.imshow(env.render(mode='rgb_array'))\n",
    "\n",
    "env.render(close=True)\n"
   ]
  },
  {
   "cell_type": "code",
   "execution_count": 6,
   "metadata": {
    "collapsed": false
   },
   "outputs": [
    {
     "data": {
      "text/plain": [
       "<matplotlib.image.AxesImage at 0x7fb886c90ad0>"
      ]
     },
     "execution_count": 6,
     "metadata": {},
     "output_type": "execute_result"
    },
    {
     "data": {
      "image/png": "[encoded data removed]",
      "text/plain": [
       "<matplotlib.figure.Figure at 0x7fb889943c90>"
      ]
     },
     "metadata": {},
     "output_type": "display_data"
    }
   ],
   "source": [
    "# Check out what a cropped image looks like\n",
    "plt.imshow(observation[34:-16,:,:])"
   ]
  },
  {
   "cell_type": "code",
   "execution_count": 10,
   "metadata": {
    "collapsed": false
   },
   "outputs": [
    {
     "data": {
      "text/plain": [
       "array([[[142, 142, 142],\n",
       "        [142, 142, 142],\n",
       "        [142, 142, 142],\n",
       "        ..., \n",
       "        [142, 142, 142],\n",
       "        [142, 142, 142],\n",
       "        [142, 142, 142]],\n",
       "\n",
       "       [[142, 142, 142],\n",
       "        [142, 142, 142],\n",
       "        [142, 142, 142],\n",
       "        ..., \n",
       "        [142, 142, 142],\n",
       "        [142, 142, 142],\n",
       "        [142, 142, 142]],\n",
       "\n",
       "       [[142, 142, 142],\n",
       "        [142, 142, 142],\n",
       "        [142, 142, 142],\n",
       "        ..., \n",
       "        [142, 142, 142],\n",
       "        [142, 142, 142],\n",
       "        [142, 142, 142]],\n",
       "\n",
       "       ..., \n",
       "       [[ 66, 158, 130],\n",
       "        [ 66, 158, 130],\n",
       "        [ 66, 158, 130],\n",
       "        ..., \n",
       "        [200,  72,  72],\n",
       "        [200,  72,  72],\n",
       "        [200,  72,  72]],\n",
       "\n",
       "       [[ 66, 158, 130],\n",
       "        [ 66, 158, 130],\n",
       "        [ 66, 158, 130],\n",
       "        ..., \n",
       "        [200,  72,  72],\n",
       "        [200,  72,  72],\n",
       "        [200,  72,  72]],\n",
       "\n",
       "       [[ 66, 158, 130],\n",
       "        [ 66, 158, 130],\n",
       "        [ 66, 158, 130],\n",
       "        ..., \n",
       "        [200,  72,  72],\n",
       "        [200,  72,  72],\n",
       "        [200,  72,  72]]], dtype=uint8)"
      ]
     },
     "execution_count": 10,
     "metadata": {},
     "output_type": "execute_result"
    }
   ],
   "source": [
    "observation[34:-16,:,:]"
   ]
  },
  {
   "cell_type": "code",
   "execution_count": null,
   "metadata": {
    "collapsed": true
   },
   "outputs": [],
   "source": []
  }
 ],
 "metadata": {
  "anaconda-cloud": {},
  "kernelspec": {
   "display_name": "Python [default]",
   "language": "python",
   "name": "python2"
  },
  "language_info": {
   "codemirror_mode": {
    "name": "ipython",
    "version": 2
   },
   "file_extension": ".py",
   "mimetype": "text/x-python",
   "name": "python",
   "nbconvert_exporter": "python",
   "pygments_lexer": "ipython2",
   "version": "2.7.12"
  }
 },
 "nbformat": 4,
 "nbformat_minor": 0
}
