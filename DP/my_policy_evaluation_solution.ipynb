{
 "cells": [
  {
   "cell_type": "code",
   "execution_count": 17,
   "metadata": {
    "collapsed": false
   },
   "outputs": [],
   "source": [
    "import sys\n",
    "import numpy as np\n",
    "if '../' not in sys.path:\n",
    "    sys.path.append('../')\n",
    "import gym"
   ]
  },
  {
   "cell_type": "code",
   "execution_count": 8,
   "metadata": {
    "collapsed": false
   },
   "outputs": [],
   "source": [
    "from lib.envs.gridworld import GridworldEnv"
   ]
  },
  {
   "cell_type": "code",
   "execution_count": 145,
   "metadata": {
    "collapsed": false
   },
   "outputs": [
    {
     "name": "stdout",
     "output_type": "stream",
     "text": [
      "16\n",
      "[ 0.  0.  0.  0.  0.  0.  0.  0.  0.  0.  0.  0.  0.  0.  0.  0.]\n",
      "0\n",
      "1\n",
      "2\n",
      "3\n",
      "4\n",
      "5\n",
      "6\n",
      "7\n",
      "8\n",
      "9\n",
      "10\n",
      "11\n",
      "12\n",
      "13\n",
      "14\n",
      "15\n",
      "{0: [(1.0, 1, -1.0, False)], 1: [(1.0, 2, -1.0, False)], 2: [(1.0, 5, -1.0, False)], 3: [(1.0, 0, -1.0, True)]}\n",
      "[(1.0, 0, 0.0, True)]\n",
      "[(1.0, 0, 0.0, True)]\n",
      "[(1.0, 2, -1.0, False)]\n",
      "Discrete(4)\n"
     ]
    }
   ],
   "source": [
    "env = GridworldEnv()\n",
    "print env.nS\n",
    "v = np.zeros(env.nS)\n",
    "print v\n",
    "env.shape\n",
    "for s in env.P:\n",
    "    print s\n",
    "print env.P[1]\n",
    "print env.P[0][1]\n",
    "print env.P[0][0]\n",
    "print env.P[1][1]\n",
    "print env.action_space\n",
    "#print np.ones([env.nS, env.nA])/env.nA"
   ]
  },
  {
   "cell_type": "code",
   "execution_count": null,
   "metadata": {
    "collapsed": true
   },
   "outputs": [],
   "source": [
    "print env.action_space.sample"
   ]
  },
  {
   "cell_type": "code",
   "execution_count": 149,
   "metadata": {
    "collapsed": false
   },
   "outputs": [],
   "source": [
    "def policy_eval(policy, env, discount_factor=1.0, theta=0.00001):\n",
    "    \"\"\"\n",
    "    Evaluate a policy given an environment and a full description of the environment's dynamics.\n",
    "    \n",
    "    Args:\n",
    "        policy: [S, A] shaped matrix representing the policy.\n",
    "        env: OpenAI env. env.P represents the transition probabilities of the environment.\n",
    "            env.P[s][a] is a (prob, next_state, reward, done) tuple.\n",
    "        theta: We stop evaluation one our value function change is less than theta for all states.\n",
    "        discount_factor: lambda discount factor.\n",
    "    \n",
    "    Returns:\n",
    "        Vector of length env.nS representing the value function.\n",
    "                \n",
    "    \"\"\"\n",
    "    \n",
    "    V = np.zeros(env.nS)\n",
    "    while True:\n",
    "        V_next = np.zeros(env.nS)\n",
    "        # check each state\n",
    "        for s in env.P:\n",
    "            v = 0\n",
    "            # check each action\n",
    "            for a, action_prob in enumerate(policy[s]):\n",
    "                # get values for each possible next state given action a\n",
    "                for next_state_prob, next_state, reward, done in env.P[s][a]:\n",
    "                    V_next[s] += action_prob * next_state_prob * (reward + discount_factor * V[next_state])\n",
    "        if np.all((V - V_next) < theta):\n",
    "            break\n",
    "        V = V_next\n",
    "    return V\n",
    "\n",
    "    \"\"\"\n",
    "    my initial attempt, works but maybe not as clean\n",
    "    \n",
    "    \n",
    "    V = np.zeros(env.nS)\n",
    "    i = 0\n",
    "    while True:\n",
    "        V2 = np.zeros(env.nS)\n",
    "        for s in env.P.keys():\n",
    "            new_value = 0\n",
    "            for a in env.P[s]:\n",
    "                next_state = env.P[s][a][0][1]\n",
    "                next_state_value = V[next_state]\n",
    "                r = env.P[s][a][0][2]\n",
    "                p = policy[s][a]\n",
    "                new_value += p*(r+next_state_value)\n",
    "            V2[s] = new_value\n",
    "        if np.all((V-V2) < theta):\n",
    "            break\n",
    "        V = V2\n",
    "    return V\n",
    "    \"\"\"\n",
    "        \n",
    "        "
   ]
  },
  {
   "cell_type": "code",
   "execution_count": 150,
   "metadata": {
    "collapsed": false
   },
   "outputs": [
    {
     "name": "stdout",
     "output_type": "stream",
     "text": [
      "[  0.         -13.99988715 -19.99983277 -21.99981286 -13.99988715\n",
      " -17.99985268 -19.99983389 -19.99983277 -19.99983277 -19.99983389\n",
      " -17.99985268 -13.99988715 -21.99981286 -19.99983277 -13.99988715   0.        ]\n"
     ]
    }
   ],
   "source": [
    "random_policy = np.ones([env.nS, env.nA])/env.nA\n",
    "v = policy_eval(random_policy, env)\n",
    "print v"
   ]
  },
  {
   "cell_type": "code",
   "execution_count": 152,
   "metadata": {
    "collapsed": false
   },
   "outputs": [],
   "source": [
    "expected_v = np.array([0, -14, -20, -22, -14, -18, -20, -20, -20, -20, -18, -14, -22, -20, -14, 0])\n",
    "np.testing.assert_array_almost_equal(v, expected_v, decimal=2)"
   ]
  }
 ],
 "metadata": {
  "anaconda-cloud": {},
  "kernelspec": {
   "display_name": "Python [default]",
   "language": "python",
   "name": "python2"
  },
  "language_info": {
   "codemirror_mode": {
    "name": "ipython",
    "version": 2
   },
   "file_extension": ".py",
   "mimetype": "text/x-python",
   "name": "python",
   "nbconvert_exporter": "python",
   "pygments_lexer": "ipython2",
   "version": "2.7.12"
  }
 },
 "nbformat": 4,
 "nbformat_minor": 1
}
